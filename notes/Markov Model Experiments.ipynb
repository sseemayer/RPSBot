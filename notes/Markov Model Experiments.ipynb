{
 "cells": [
  {
   "cell_type": "code",
   "execution_count": 50,
   "metadata": {},
   "outputs": [],
   "source": [
    "%matplotlib inline\n",
    "import numpy as np\n",
    "import itertools"
   ]
  },
  {
   "cell_type": "code",
   "execution_count": 51,
   "metadata": {},
   "outputs": [],
   "source": [
    "alphabet = 'rps'\n",
    "possible_events = list(itertools.product(alphabet, alphabet))\n",
    "\n",
    "scores = {\n",
    "    # you me    outcome\n",
    "    ('r', 'r'): 0,\n",
    "    ('r', 'p'): 1,\n",
    "    ('r', 's'): -1,\n",
    "    \n",
    "    ('p', 'r'): -1,\n",
    "    ('p', 'p'): 0,\n",
    "    ('p', 's'): 1,\n",
    "    \n",
    "    ('s', 'r'): 1,\n",
    "    ('s', 'p'): -1,\n",
    "    ('s', 's'): 0\n",
    "}"
   ]
  },
  {
   "cell_type": "code",
   "execution_count": 52,
   "metadata": {},
   "outputs": [],
   "source": [
    "history = 'rr rp sr pr pp rs pr rs pp rp pr ss sr rp pr sr rs sr pr sr rr pp sr ps ps sp'"
   ]
  },
  {
   "cell_type": "code",
   "execution_count": 68,
   "metadata": {},
   "outputs": [],
   "source": [
    "def count(seq, degree=0):\n",
    "    \"\"\"Compute the (possibly conditional) counts for fitting the markov chain.\n",
    "    \"\"\"\n",
    "    assert degree >= 0\n",
    "    \n",
    "    n = len(possible_events)\n",
    "    out = np.zeros([n] * (degree + 1), dtype='uint32')\n",
    "    \n",
    "    if isinstance(seq, str):\n",
    "        seq = [(e[0], e[1]) for e in seq.split(' ')]\n",
    "    \n",
    "    for event_and_history in zip(*(seq[i:] for i in range(degree + 1))):\n",
    "        eahi = [possible_events.index(e) for e in event_and_history]\n",
    "        \n",
    "        # TODO this can probably be done more elegantly\n",
    "        o = out\n",
    "        for i in eahi[:-1]:\n",
    "            o = o[i]\n",
    "        \n",
    "        o[eahi[-1]] += 1\n",
    "        \n",
    "    return out\n",
    "\n",
    "def p_marginal_pair(probs, pseudocounts=1):\n",
    "    assert len(probs.shape) == 1\n",
    "    assert probs.shape == (len(possible_events), )\n",
    "    \n",
    "    out = np.empty((len(alphabet),))\n",
    "    out[:] = pseudocounts\n",
    "    \n",
    "    for p, (y, m) in zip(probs, possible_events):\n",
    "        yi = alphabet.index(y)\n",
    "        out[yi] += p\n",
    "    \n",
    "    return out / np.sum(out)"
   ]
  },
  {
   "cell_type": "code",
   "execution_count": 69,
   "metadata": {},
   "outputs": [],
   "source": [
    "def best_strategy(marginal_probs):\n",
    "    assert marginal_probs.shape == (len(alphabet), )\n",
    "    \n",
    "    outcomes = np.zeros((len(alphabet),))\n",
    "    \n",
    "    for im, m in enumerate(alphabet):\n",
    "        outcomes[im] = sum((\n",
    "            py * scores[(y, m)]\n",
    "            for py, y in zip(marginal_probs, alphabet) \n",
    "        ))\n",
    "    \n",
    "    i_best = np.argmax(outcomes)\n",
    "    \n",
    "    return alphabet[i_best], outcomes[i_best]"
   ]
  },
  {
   "cell_type": "code",
   "execution_count": 70,
   "metadata": {},
   "outputs": [
    {
     "name": "stdout",
     "output_type": "stream",
     "text": [
      "p(e_i = (r, *)): 0.31\n",
      "p(e_i = (p, *)): 0.38\n",
      "p(e_i = (s, *)): 0.31\n",
      "best strategy a priori: s (exp=0.069)\n"
     ]
    }
   ],
   "source": [
    "counts_0 = count(history, 0)\n",
    "    \n",
    "p_0 = p_marginal_pair(counts_0)\n",
    "for a, p in zip(alphabet, p_0):\n",
    "        print('p(e_i = ({}, *)): {:.2f}'.format(a, p))\n",
    "        \n",
    "print('best strategy a priori: {} (exp={:.3f})'.format(*best_strategy(p_0)))"
   ]
  },
  {
   "cell_type": "code",
   "execution_count": 71,
   "metadata": {
    "scrolled": false
   },
   "outputs": [
    {
     "name": "stdout",
     "output_type": "stream",
     "text": [
      "[[0 1 0 0 1 0 0 0 0]\n",
      " [0 0 0 2 0 0 1 0 0]\n",
      " [0 0 0 1 1 0 1 0 0]\n",
      " [0 0 1 0 1 0 2 0 1]\n",
      " [0 1 1 0 0 0 1 0 0]\n",
      " [0 0 0 0 0 1 0 1 0]\n",
      " [1 1 1 2 0 1 0 0 0]\n",
      " [0 0 0 0 0 0 0 0 0]\n",
      " [0 0 0 0 0 0 1 0 0]]\n",
      "\n",
      "given that last round was you: r me: r\n",
      "  p(e_i = (r, *)| e_{i-1} = (r, r) ): 0.40\n",
      "  p(e_i = (p, *)| e_{i-1} = (r, r) ): 0.40\n",
      "  p(e_i = (s, *)| e_{i-1} = (r, r) ): 0.20\n",
      "=> best strategy: p (exp=0.200)\n",
      "\n",
      "given that last round was you: r me: p\n",
      "  p(e_i = (r, *)| e_{i-1} = (r, p) ): 0.17\n",
      "  p(e_i = (p, *)| e_{i-1} = (r, p) ): 0.50\n",
      "  p(e_i = (s, *)| e_{i-1} = (r, p) ): 0.33\n",
      "=> best strategy: s (exp=0.333)\n",
      "\n",
      "given that last round was you: r me: s\n",
      "  p(e_i = (r, *)| e_{i-1} = (r, s) ): 0.17\n",
      "  p(e_i = (p, *)| e_{i-1} = (r, s) ): 0.50\n",
      "  p(e_i = (s, *)| e_{i-1} = (r, s) ): 0.33\n",
      "=> best strategy: s (exp=0.333)\n",
      "\n",
      "given that last round was you: p me: r\n",
      "  p(e_i = (r, *)| e_{i-1} = (p, r) ): 0.25\n",
      "  p(e_i = (p, *)| e_{i-1} = (p, r) ): 0.25\n",
      "  p(e_i = (s, *)| e_{i-1} = (p, r) ): 0.50\n",
      "=> best strategy: r (exp=0.250)\n",
      "\n",
      "given that last round was you: p me: p\n",
      "  p(e_i = (r, *)| e_{i-1} = (p, p) ): 0.50\n",
      "  p(e_i = (p, *)| e_{i-1} = (p, p) ): 0.17\n",
      "  p(e_i = (s, *)| e_{i-1} = (p, p) ): 0.33\n",
      "=> best strategy: p (exp=0.167)\n",
      "\n",
      "given that last round was you: p me: s\n",
      "  p(e_i = (r, *)| e_{i-1} = (p, s) ): 0.20\n",
      "  p(e_i = (p, *)| e_{i-1} = (p, s) ): 0.40\n",
      "  p(e_i = (s, *)| e_{i-1} = (p, s) ): 0.40\n",
      "=> best strategy: s (exp=0.200)\n",
      "\n",
      "given that last round was you: s me: r\n",
      "  p(e_i = (r, *)| e_{i-1} = (s, r) ): 0.44\n",
      "  p(e_i = (p, *)| e_{i-1} = (s, r) ): 0.44\n",
      "  p(e_i = (s, *)| e_{i-1} = (s, r) ): 0.11\n",
      "=> best strategy: p (exp=0.333)\n",
      "\n",
      "given that last round was you: s me: p\n",
      "  p(e_i = (r, *)| e_{i-1} = (s, p) ): 0.33\n",
      "  p(e_i = (p, *)| e_{i-1} = (s, p) ): 0.33\n",
      "  p(e_i = (s, *)| e_{i-1} = (s, p) ): 0.33\n",
      "=> best strategy: r (exp=0.000)\n",
      "\n",
      "given that last round was you: s me: s\n",
      "  p(e_i = (r, *)| e_{i-1} = (s, s) ): 0.25\n",
      "  p(e_i = (p, *)| e_{i-1} = (s, s) ): 0.25\n",
      "  p(e_i = (s, *)| e_{i-1} = (s, s) ): 0.50\n",
      "=> best strategy: r (exp=0.250)\n"
     ]
    }
   ],
   "source": [
    "counts_1 = count(history, 1)\n",
    "print(counts_1)\n",
    "\n",
    "for ci, c in enumerate(possible_events):\n",
    "    p_1 = p_marginal_pair(counts_1[ci, :])\n",
    "    \n",
    "    print(\"\\ngiven that last round was you: {} me: {}\".format(*c))\n",
    "    for a, p in zip(alphabet, p_1):\n",
    "        print('  p(e_i = ({}, *)| e_{{i-1}} = ({}, {}) ): {:.2f}'.format(a, c[0], c[1], p))\n",
    "        \n",
    "    print('=> best strategy: {} (exp={:.3f})'.format(*best_strategy(p_1)))"
   ]
  },
  {
   "cell_type": "code",
   "execution_count": null,
   "metadata": {},
   "outputs": [],
   "source": []
  },
  {
   "cell_type": "code",
   "execution_count": null,
   "metadata": {},
   "outputs": [],
   "source": []
  }
 ],
 "metadata": {
  "kernelspec": {
   "display_name": "Python 3",
   "language": "python",
   "name": "python3"
  },
  "language_info": {
   "codemirror_mode": {
    "name": "ipython",
    "version": 3
   },
   "file_extension": ".py",
   "mimetype": "text/x-python",
   "name": "python",
   "nbconvert_exporter": "python",
   "pygments_lexer": "ipython3",
   "version": "3.6.4"
  }
 },
 "nbformat": 4,
 "nbformat_minor": 2
}
